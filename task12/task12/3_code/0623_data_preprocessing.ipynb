{
 "cells": [
  {
   "cell_type": "markdown",
   "metadata": {},
   "source": [
    "# This file is to seg train and val dataset"
   ]
  },
  {
   "cell_type": "code",
   "execution_count": 1,
   "metadata": {},
   "outputs": [],
   "source": [
    "import pandas as pd"
   ]
  },
  {
   "cell_type": "code",
   "execution_count": 2,
   "metadata": {},
   "outputs": [],
   "source": [
    "train_para_ = pd.read_csv('../2_data/train_sequence.csv', header=None)\n",
    "train_label_ = pd.read_csv('../2_data/train_label.csv', header=None)"
   ]
  },
  {
   "cell_type": "code",
   "execution_count": 3,
   "metadata": {},
   "outputs": [
    {
     "data": {
      "text/html": [
       "<div>\n",
       "<style scoped>\n",
       "    .dataframe tbody tr th:only-of-type {\n",
       "        vertical-align: middle;\n",
       "    }\n",
       "\n",
       "    .dataframe tbody tr th {\n",
       "        vertical-align: top;\n",
       "    }\n",
       "\n",
       "    .dataframe thead th {\n",
       "        text-align: right;\n",
       "    }\n",
       "</style>\n",
       "<table border=\"1\" class=\"dataframe\">\n",
       "  <thead>\n",
       "    <tr style=\"text-align: right;\">\n",
       "      <th></th>\n",
       "      <th>0</th>\n",
       "      <th>1</th>\n",
       "      <th>2</th>\n",
       "      <th>3</th>\n",
       "      <th>4</th>\n",
       "      <th>5</th>\n",
       "      <th>6</th>\n",
       "      <th>7</th>\n",
       "      <th>8</th>\n",
       "      <th>9</th>\n",
       "      <th>10</th>\n",
       "      <th>11</th>\n",
       "    </tr>\n",
       "  </thead>\n",
       "  <tbody>\n",
       "    <tr>\n",
       "      <th>0</th>\n",
       "      <td>-1.365793</td>\n",
       "      <td>-2.314538</td>\n",
       "      <td>0.823914</td>\n",
       "      <td>-0.629632</td>\n",
       "      <td>5.893436</td>\n",
       "      <td>0.655085</td>\n",
       "      <td>-4.789926</td>\n",
       "      <td>-8.106955</td>\n",
       "      <td>2.514650</td>\n",
       "      <td>-6.268966</td>\n",
       "      <td>-5.492786</td>\n",
       "      <td>-3.471301</td>\n",
       "    </tr>\n",
       "    <tr>\n",
       "      <th>1</th>\n",
       "      <td>-2.269225</td>\n",
       "      <td>-2.533933</td>\n",
       "      <td>2.532465</td>\n",
       "      <td>-8.243531</td>\n",
       "      <td>-7.190703</td>\n",
       "      <td>3.090301</td>\n",
       "      <td>-3.887489</td>\n",
       "      <td>6.839640</td>\n",
       "      <td>-0.935541</td>\n",
       "      <td>7.948233</td>\n",
       "      <td>9.533810</td>\n",
       "      <td>-2.648322</td>\n",
       "    </tr>\n",
       "  </tbody>\n",
       "</table>\n",
       "</div>"
      ],
      "text/plain": [
       "         0         1         2         3         4         5         6   \\\n",
       "0 -1.365793 -2.314538  0.823914 -0.629632  5.893436  0.655085 -4.789926   \n",
       "1 -2.269225 -2.533933  2.532465 -8.243531 -7.190703  3.090301 -3.887489   \n",
       "\n",
       "         7         8         9         10        11  \n",
       "0 -8.106955  2.514650 -6.268966 -5.492786 -3.471301  \n",
       "1  6.839640 -0.935541  7.948233  9.533810 -2.648322  "
      ]
     },
     "execution_count": 3,
     "metadata": {},
     "output_type": "execute_result"
    }
   ],
   "source": [
    "train_para_.head(2)"
   ]
  },
  {
   "cell_type": "markdown",
   "metadata": {},
   "source": [
    "## train_para"
   ]
  },
  {
   "cell_type": "code",
   "execution_count": 4,
   "metadata": {},
   "outputs": [
    {
     "data": {
      "text/html": [
       "<div>\n",
       "<style scoped>\n",
       "    .dataframe tbody tr th:only-of-type {\n",
       "        vertical-align: middle;\n",
       "    }\n",
       "\n",
       "    .dataframe tbody tr th {\n",
       "        vertical-align: top;\n",
       "    }\n",
       "\n",
       "    .dataframe thead th {\n",
       "        text-align: right;\n",
       "    }\n",
       "</style>\n",
       "<table border=\"1\" class=\"dataframe\">\n",
       "  <thead>\n",
       "    <tr style=\"text-align: right;\">\n",
       "      <th></th>\n",
       "      <th>0</th>\n",
       "      <th>1</th>\n",
       "      <th>2</th>\n",
       "      <th>3</th>\n",
       "      <th>4</th>\n",
       "      <th>5</th>\n",
       "      <th>6</th>\n",
       "      <th>7</th>\n",
       "      <th>8</th>\n",
       "      <th>9</th>\n",
       "      <th>10</th>\n",
       "      <th>11</th>\n",
       "    </tr>\n",
       "  </thead>\n",
       "  <tbody>\n",
       "    <tr>\n",
       "      <th>0</th>\n",
       "      <td>-1.365793</td>\n",
       "      <td>-2.314538</td>\n",
       "      <td>0.823914</td>\n",
       "      <td>-0.629632</td>\n",
       "      <td>5.893436</td>\n",
       "      <td>0.655085</td>\n",
       "      <td>-4.789926</td>\n",
       "      <td>-8.106955</td>\n",
       "      <td>2.514650</td>\n",
       "      <td>-6.268966</td>\n",
       "      <td>-5.492786</td>\n",
       "      <td>-3.471301</td>\n",
       "    </tr>\n",
       "    <tr>\n",
       "      <th>1</th>\n",
       "      <td>-2.269225</td>\n",
       "      <td>-2.533933</td>\n",
       "      <td>2.532465</td>\n",
       "      <td>-8.243531</td>\n",
       "      <td>-7.190703</td>\n",
       "      <td>3.090301</td>\n",
       "      <td>-3.887489</td>\n",
       "      <td>6.839640</td>\n",
       "      <td>-0.935541</td>\n",
       "      <td>7.948233</td>\n",
       "      <td>9.533810</td>\n",
       "      <td>-2.648322</td>\n",
       "    </tr>\n",
       "  </tbody>\n",
       "</table>\n",
       "</div>"
      ],
      "text/plain": [
       "         0         1         2         3         4         5         6   \\\n",
       "0 -1.365793 -2.314538  0.823914 -0.629632  5.893436  0.655085 -4.789926   \n",
       "1 -2.269225 -2.533933  2.532465 -8.243531 -7.190703  3.090301 -3.887489   \n",
       "\n",
       "         7         8         9         10        11  \n",
       "0 -8.106955  2.514650 -6.268966 -5.492786 -3.471301  \n",
       "1  6.839640 -0.935541  7.948233  9.533810 -2.648322  "
      ]
     },
     "execution_count": 4,
     "metadata": {},
     "output_type": "execute_result"
    }
   ],
   "source": [
    "v_p = train_para_.head(32000-3200)\n",
    "v_p.head(2)"
   ]
  },
  {
   "cell_type": "code",
   "execution_count": 5,
   "metadata": {},
   "outputs": [],
   "source": [
    "v_p.to_csv('../4_result/train_para.csv', header=None, index=None)"
   ]
  },
  {
   "cell_type": "code",
   "execution_count": 7,
   "metadata": {},
   "outputs": [
    {
     "data": {
      "text/html": [
       "<div>\n",
       "<style scoped>\n",
       "    .dataframe tbody tr th:only-of-type {\n",
       "        vertical-align: middle;\n",
       "    }\n",
       "\n",
       "    .dataframe tbody tr th {\n",
       "        vertical-align: top;\n",
       "    }\n",
       "\n",
       "    .dataframe thead th {\n",
       "        text-align: right;\n",
       "    }\n",
       "</style>\n",
       "<table border=\"1\" class=\"dataframe\">\n",
       "  <thead>\n",
       "    <tr style=\"text-align: right;\">\n",
       "      <th></th>\n",
       "      <th>0</th>\n",
       "      <th>1</th>\n",
       "      <th>2</th>\n",
       "      <th>3</th>\n",
       "      <th>4</th>\n",
       "      <th>5</th>\n",
       "      <th>6</th>\n",
       "      <th>7</th>\n",
       "      <th>8</th>\n",
       "      <th>9</th>\n",
       "      <th>10</th>\n",
       "      <th>11</th>\n",
       "    </tr>\n",
       "  </thead>\n",
       "  <tbody>\n",
       "    <tr>\n",
       "      <th>0</th>\n",
       "      <td>-1.365793</td>\n",
       "      <td>-2.314538</td>\n",
       "      <td>0.823914</td>\n",
       "      <td>-0.629632</td>\n",
       "      <td>5.893436</td>\n",
       "      <td>0.655085</td>\n",
       "      <td>-4.789926</td>\n",
       "      <td>-8.106955</td>\n",
       "      <td>2.514650</td>\n",
       "      <td>-6.268966</td>\n",
       "      <td>-5.492786</td>\n",
       "      <td>-3.471301</td>\n",
       "    </tr>\n",
       "    <tr>\n",
       "      <th>1</th>\n",
       "      <td>-2.269225</td>\n",
       "      <td>-2.533933</td>\n",
       "      <td>2.532465</td>\n",
       "      <td>-8.243531</td>\n",
       "      <td>-7.190703</td>\n",
       "      <td>3.090301</td>\n",
       "      <td>-3.887489</td>\n",
       "      <td>6.839640</td>\n",
       "      <td>-0.935541</td>\n",
       "      <td>7.948233</td>\n",
       "      <td>9.533810</td>\n",
       "      <td>-2.648322</td>\n",
       "    </tr>\n",
       "  </tbody>\n",
       "</table>\n",
       "</div>"
      ],
      "text/plain": [
       "         0         1         2         3         4         5         6   \\\n",
       "0 -1.365793 -2.314538  0.823914 -0.629632  5.893436  0.655085 -4.789926   \n",
       "1 -2.269225 -2.533933  2.532465 -8.243531 -7.190703  3.090301 -3.887489   \n",
       "\n",
       "         7         8         9         10        11  \n",
       "0 -8.106955  2.514650 -6.268966 -5.492786 -3.471301  \n",
       "1  6.839640 -0.935541  7.948233  9.533810 -2.648322  "
      ]
     },
     "execution_count": 7,
     "metadata": {},
     "output_type": "execute_result"
    }
   ],
   "source": [
    "v_p = pd.read_csv('../4_result/train_para.csv', header=None)\n",
    "v_p.head(2)"
   ]
  },
  {
   "cell_type": "markdown",
   "metadata": {},
   "source": [
    "## train_label"
   ]
  },
  {
   "cell_type": "code",
   "execution_count": 11,
   "metadata": {},
   "outputs": [
    {
     "data": {
      "text/html": [
       "<div>\n",
       "<style scoped>\n",
       "    .dataframe tbody tr th:only-of-type {\n",
       "        vertical-align: middle;\n",
       "    }\n",
       "\n",
       "    .dataframe tbody tr th {\n",
       "        vertical-align: top;\n",
       "    }\n",
       "\n",
       "    .dataframe thead th {\n",
       "        text-align: right;\n",
       "    }\n",
       "</style>\n",
       "<table border=\"1\" class=\"dataframe\">\n",
       "  <thead>\n",
       "    <tr style=\"text-align: right;\">\n",
       "      <th></th>\n",
       "      <th>0</th>\n",
       "    </tr>\n",
       "  </thead>\n",
       "  <tbody>\n",
       "    <tr>\n",
       "      <th>0</th>\n",
       "      <td>10</td>\n",
       "    </tr>\n",
       "    <tr>\n",
       "      <th>1</th>\n",
       "      <td>3</td>\n",
       "    </tr>\n",
       "  </tbody>\n",
       "</table>\n",
       "</div>"
      ],
      "text/plain": [
       "    0\n",
       "0  10\n",
       "1   3"
      ]
     },
     "execution_count": 11,
     "metadata": {},
     "output_type": "execute_result"
    }
   ],
   "source": [
    "v_p = train_label_.head(32000-3200)\n",
    "v_p.head(2)"
   ]
  },
  {
   "cell_type": "code",
   "execution_count": 12,
   "metadata": {},
   "outputs": [],
   "source": [
    "v_p.to_csv('../4_result/train_label.csv', header=None, index=None)"
   ]
  },
  {
   "cell_type": "code",
   "execution_count": 13,
   "metadata": {},
   "outputs": [
    {
     "data": {
      "text/html": [
       "<div>\n",
       "<style scoped>\n",
       "    .dataframe tbody tr th:only-of-type {\n",
       "        vertical-align: middle;\n",
       "    }\n",
       "\n",
       "    .dataframe tbody tr th {\n",
       "        vertical-align: top;\n",
       "    }\n",
       "\n",
       "    .dataframe thead th {\n",
       "        text-align: right;\n",
       "    }\n",
       "</style>\n",
       "<table border=\"1\" class=\"dataframe\">\n",
       "  <thead>\n",
       "    <tr style=\"text-align: right;\">\n",
       "      <th></th>\n",
       "      <th>0</th>\n",
       "    </tr>\n",
       "  </thead>\n",
       "  <tbody>\n",
       "    <tr>\n",
       "      <th>0</th>\n",
       "      <td>10</td>\n",
       "    </tr>\n",
       "    <tr>\n",
       "      <th>1</th>\n",
       "      <td>3</td>\n",
       "    </tr>\n",
       "  </tbody>\n",
       "</table>\n",
       "</div>"
      ],
      "text/plain": [
       "    0\n",
       "0  10\n",
       "1   3"
      ]
     },
     "execution_count": 13,
     "metadata": {},
     "output_type": "execute_result"
    }
   ],
   "source": [
    "v_p = pd.read_csv('../4_result/train_label.csv', header=None)\n",
    "v_p.head(2)"
   ]
  },
  {
   "cell_type": "markdown",
   "metadata": {},
   "source": [
    "## val_para"
   ]
  },
  {
   "cell_type": "code",
   "execution_count": 8,
   "metadata": {},
   "outputs": [
    {
     "data": {
      "text/html": [
       "<div>\n",
       "<style scoped>\n",
       "    .dataframe tbody tr th:only-of-type {\n",
       "        vertical-align: middle;\n",
       "    }\n",
       "\n",
       "    .dataframe tbody tr th {\n",
       "        vertical-align: top;\n",
       "    }\n",
       "\n",
       "    .dataframe thead th {\n",
       "        text-align: right;\n",
       "    }\n",
       "</style>\n",
       "<table border=\"1\" class=\"dataframe\">\n",
       "  <thead>\n",
       "    <tr style=\"text-align: right;\">\n",
       "      <th></th>\n",
       "      <th>0</th>\n",
       "      <th>1</th>\n",
       "      <th>2</th>\n",
       "      <th>3</th>\n",
       "      <th>4</th>\n",
       "      <th>5</th>\n",
       "      <th>6</th>\n",
       "      <th>7</th>\n",
       "      <th>8</th>\n",
       "      <th>9</th>\n",
       "      <th>10</th>\n",
       "      <th>11</th>\n",
       "    </tr>\n",
       "  </thead>\n",
       "  <tbody>\n",
       "    <tr>\n",
       "      <th>28800</th>\n",
       "      <td>-5.547217</td>\n",
       "      <td>-9.540765</td>\n",
       "      <td>0.573241</td>\n",
       "      <td>3.754040</td>\n",
       "      <td>-1.738183</td>\n",
       "      <td>-9.444189</td>\n",
       "      <td>-7.659289</td>\n",
       "      <td>5.676736</td>\n",
       "      <td>-9.147245</td>\n",
       "      <td>7.298367</td>\n",
       "      <td>3.892202</td>\n",
       "      <td>-0.736730</td>\n",
       "    </tr>\n",
       "    <tr>\n",
       "      <th>28801</th>\n",
       "      <td>-0.974961</td>\n",
       "      <td>9.941557</td>\n",
       "      <td>1.741922</td>\n",
       "      <td>8.369947</td>\n",
       "      <td>9.273596</td>\n",
       "      <td>5.420076</td>\n",
       "      <td>-8.743001</td>\n",
       "      <td>-8.054792</td>\n",
       "      <td>-8.406373</td>\n",
       "      <td>8.329600</td>\n",
       "      <td>7.278725</td>\n",
       "      <td>1.447542</td>\n",
       "    </tr>\n",
       "  </tbody>\n",
       "</table>\n",
       "</div>"
      ],
      "text/plain": [
       "             0         1         2         3         4         5         6   \\\n",
       "28800 -5.547217 -9.540765  0.573241  3.754040 -1.738183 -9.444189 -7.659289   \n",
       "28801 -0.974961  9.941557  1.741922  8.369947  9.273596  5.420076 -8.743001   \n",
       "\n",
       "             7         8         9         10        11  \n",
       "28800  5.676736 -9.147245  7.298367  3.892202 -0.736730  \n",
       "28801 -8.054792 -8.406373  8.329600  7.278725  1.447542  "
      ]
     },
     "execution_count": 8,
     "metadata": {},
     "output_type": "execute_result"
    }
   ],
   "source": [
    "v_p = train_para_.tail(3200)\n",
    "v_p.head(2)"
   ]
  },
  {
   "cell_type": "code",
   "execution_count": 9,
   "metadata": {},
   "outputs": [],
   "source": [
    "v_p.to_csv('../4_result/val_para.csv', header=None, index=None)"
   ]
  },
  {
   "cell_type": "code",
   "execution_count": 10,
   "metadata": {},
   "outputs": [
    {
     "data": {
      "text/html": [
       "<div>\n",
       "<style scoped>\n",
       "    .dataframe tbody tr th:only-of-type {\n",
       "        vertical-align: middle;\n",
       "    }\n",
       "\n",
       "    .dataframe tbody tr th {\n",
       "        vertical-align: top;\n",
       "    }\n",
       "\n",
       "    .dataframe thead th {\n",
       "        text-align: right;\n",
       "    }\n",
       "</style>\n",
       "<table border=\"1\" class=\"dataframe\">\n",
       "  <thead>\n",
       "    <tr style=\"text-align: right;\">\n",
       "      <th></th>\n",
       "      <th>0</th>\n",
       "      <th>1</th>\n",
       "      <th>2</th>\n",
       "      <th>3</th>\n",
       "      <th>4</th>\n",
       "      <th>5</th>\n",
       "      <th>6</th>\n",
       "      <th>7</th>\n",
       "      <th>8</th>\n",
       "      <th>9</th>\n",
       "      <th>10</th>\n",
       "      <th>11</th>\n",
       "    </tr>\n",
       "  </thead>\n",
       "  <tbody>\n",
       "    <tr>\n",
       "      <th>0</th>\n",
       "      <td>-5.547217</td>\n",
       "      <td>-9.540765</td>\n",
       "      <td>0.573241</td>\n",
       "      <td>3.754040</td>\n",
       "      <td>-1.738183</td>\n",
       "      <td>-9.444189</td>\n",
       "      <td>-7.659289</td>\n",
       "      <td>5.676736</td>\n",
       "      <td>-9.147245</td>\n",
       "      <td>7.298367</td>\n",
       "      <td>3.892202</td>\n",
       "      <td>-0.736730</td>\n",
       "    </tr>\n",
       "    <tr>\n",
       "      <th>1</th>\n",
       "      <td>-0.974961</td>\n",
       "      <td>9.941557</td>\n",
       "      <td>1.741922</td>\n",
       "      <td>8.369947</td>\n",
       "      <td>9.273596</td>\n",
       "      <td>5.420076</td>\n",
       "      <td>-8.743001</td>\n",
       "      <td>-8.054792</td>\n",
       "      <td>-8.406373</td>\n",
       "      <td>8.329600</td>\n",
       "      <td>7.278725</td>\n",
       "      <td>1.447542</td>\n",
       "    </tr>\n",
       "  </tbody>\n",
       "</table>\n",
       "</div>"
      ],
      "text/plain": [
       "         0         1         2         3         4         5         6   \\\n",
       "0 -5.547217 -9.540765  0.573241  3.754040 -1.738183 -9.444189 -7.659289   \n",
       "1 -0.974961  9.941557  1.741922  8.369947  9.273596  5.420076 -8.743001   \n",
       "\n",
       "         7         8         9         10        11  \n",
       "0  5.676736 -9.147245  7.298367  3.892202 -0.736730  \n",
       "1 -8.054792 -8.406373  8.329600  7.278725  1.447542  "
      ]
     },
     "execution_count": 10,
     "metadata": {},
     "output_type": "execute_result"
    }
   ],
   "source": [
    "v_p = pd.read_csv('../4_result/val_para.csv', header=None)\n",
    "v_p.head(2)"
   ]
  },
  {
   "cell_type": "markdown",
   "metadata": {},
   "source": [
    "## val_label"
   ]
  },
  {
   "cell_type": "code",
   "execution_count": 16,
   "metadata": {},
   "outputs": [
    {
     "data": {
      "text/html": [
       "<div>\n",
       "<style scoped>\n",
       "    .dataframe tbody tr th:only-of-type {\n",
       "        vertical-align: middle;\n",
       "    }\n",
       "\n",
       "    .dataframe tbody tr th {\n",
       "        vertical-align: top;\n",
       "    }\n",
       "\n",
       "    .dataframe thead th {\n",
       "        text-align: right;\n",
       "    }\n",
       "</style>\n",
       "<table border=\"1\" class=\"dataframe\">\n",
       "  <thead>\n",
       "    <tr style=\"text-align: right;\">\n",
       "      <th></th>\n",
       "      <th>0</th>\n",
       "    </tr>\n",
       "  </thead>\n",
       "  <tbody>\n",
       "    <tr>\n",
       "      <th>28800</th>\n",
       "      <td>1</td>\n",
       "    </tr>\n",
       "    <tr>\n",
       "      <th>28801</th>\n",
       "      <td>5</td>\n",
       "    </tr>\n",
       "  </tbody>\n",
       "</table>\n",
       "</div>"
      ],
      "text/plain": [
       "       0\n",
       "28800  1\n",
       "28801  5"
      ]
     },
     "execution_count": 16,
     "metadata": {},
     "output_type": "execute_result"
    }
   ],
   "source": [
    "v_p = train_label_.tail(3200)\n",
    "v_p.head(2)"
   ]
  },
  {
   "cell_type": "code",
   "execution_count": 17,
   "metadata": {},
   "outputs": [],
   "source": [
    "v_p.to_csv('../4_result/val_label.csv', header=None, index=None)"
   ]
  },
  {
   "cell_type": "code",
   "execution_count": 18,
   "metadata": {},
   "outputs": [
    {
     "data": {
      "text/html": [
       "<div>\n",
       "<style scoped>\n",
       "    .dataframe tbody tr th:only-of-type {\n",
       "        vertical-align: middle;\n",
       "    }\n",
       "\n",
       "    .dataframe tbody tr th {\n",
       "        vertical-align: top;\n",
       "    }\n",
       "\n",
       "    .dataframe thead th {\n",
       "        text-align: right;\n",
       "    }\n",
       "</style>\n",
       "<table border=\"1\" class=\"dataframe\">\n",
       "  <thead>\n",
       "    <tr style=\"text-align: right;\">\n",
       "      <th></th>\n",
       "      <th>0</th>\n",
       "    </tr>\n",
       "  </thead>\n",
       "  <tbody>\n",
       "    <tr>\n",
       "      <th>0</th>\n",
       "      <td>1</td>\n",
       "    </tr>\n",
       "    <tr>\n",
       "      <th>1</th>\n",
       "      <td>5</td>\n",
       "    </tr>\n",
       "  </tbody>\n",
       "</table>\n",
       "</div>"
      ],
      "text/plain": [
       "   0\n",
       "0  1\n",
       "1  5"
      ]
     },
     "execution_count": 18,
     "metadata": {},
     "output_type": "execute_result"
    }
   ],
   "source": [
    "v_p = pd.read_csv('../4_result/val_label.csv', header=None)\n",
    "v_p.head(2)"
   ]
  },
  {
   "cell_type": "code",
   "execution_count": 19,
   "metadata": {},
   "outputs": [
    {
     "data": {
      "text/plain": [
       "16"
      ]
     },
     "execution_count": 19,
     "metadata": {},
     "output_type": "execute_result"
    }
   ],
   "source": [
    "520 // 32"
   ]
  },
  {
   "cell_type": "code",
   "execution_count": 20,
   "metadata": {},
   "outputs": [
    {
     "data": {
      "text/plain": [
       "512"
      ]
     },
     "execution_count": 20,
     "metadata": {},
     "output_type": "execute_result"
    }
   ],
   "source": [
    "16 * 32"
   ]
  },
  {
   "cell_type": "code",
   "execution_count": 21,
   "metadata": {},
   "outputs": [
    {
     "data": {
      "text/plain": [
       "1536"
      ]
     },
     "execution_count": 21,
     "metadata": {},
     "output_type": "execute_result"
    }
   ],
   "source": [
    "128 * 12"
   ]
  },
  {
   "cell_type": "code",
   "execution_count": null,
   "metadata": {},
   "outputs": [],
   "source": []
  }
 ],
 "metadata": {
  "kernelspec": {
   "display_name": "Python 3",
   "language": "python",
   "name": "python3"
  },
  "language_info": {
   "codemirror_mode": {
    "name": "ipython",
    "version": 3
   },
   "file_extension": ".py",
   "mimetype": "text/x-python",
   "name": "python",
   "nbconvert_exporter": "python",
   "pygments_lexer": "ipython3",
   "version": "3.7.0"
  }
 },
 "nbformat": 4,
 "nbformat_minor": 2
}
